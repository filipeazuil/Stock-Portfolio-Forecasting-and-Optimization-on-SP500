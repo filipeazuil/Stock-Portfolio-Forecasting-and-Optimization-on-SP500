{
 "cells": [
  {
   "cell_type": "code",
   "execution_count": 46,
   "metadata": {},
   "outputs": [],
   "source": [
    "import yfinance as yf\n",
    "import pandas as pd\n",
    "import numpy as np\n",
    "import matplotlib.pyplot as plt\n",
    "from tensorflow.keras.models import Sequential\n",
    "from tensorflow.keras.layers import LSTM, Dense, Dropout, Bidirectional\n",
    "from tensorflow.keras.callbacks import EarlyStopping\n",
    "from sklearn.preprocessing import StandardScaler\n",
    "from sklearn.model_selection import train_test_split\n",
    "import numpy as np\n",
    "import matplotlib.pyplot as plt"
   ]
  },
  {
   "cell_type": "code",
   "execution_count": 47,
   "metadata": {},
   "outputs": [
    {
     "name": "stderr",
     "output_type": "stream",
     "text": [
      "[*********************100%***********************]  1 of 1 completed"
     ]
    },
    {
     "name": "stdout",
     "output_type": "stream",
     "text": [
      "Dataset shape: (3521, 6)\n",
      "[[ 1.13260002e+02  1.13680000e+02  1.12849998e+02  1.13629997e+02\n",
      "   1.11579900e+08  2.64709625e-03]\n",
      " [ 1.13519997e+02  1.13989998e+02  1.13430000e+02  1.13709999e+02\n",
      "   1.16074400e+08  7.04055557e-04]\n",
      " [ 1.13500000e+02  1.14330002e+02  1.13180000e+02  1.14190002e+02\n",
      "   1.31091100e+08  4.22129418e-03]\n",
      " ...\n",
      " [ 4.75440002e+02  4.76660004e+02  4.74890015e+02  4.76510010e+02\n",
      "   6.80003000e+07  1.80808553e-03]\n",
      " [ 4.76880005e+02  4.77549988e+02  4.76260010e+02  4.76690002e+02\n",
      "   7.71581000e+07  3.77731154e-04]\n",
      " [ 4.76489990e+02  4.77029999e+02  4.73299988e+02  4.75309998e+02\n",
      "   1.22234100e+08 -2.89497341e-03]]\n"
     ]
    },
    {
     "name": "stderr",
     "output_type": "stream",
     "text": [
      "\n"
     ]
    }
   ],
   "source": [
    "# Download historical data for SPY\n",
    "spy_data = yf.download('SPY', start='2010-01-01', end='2023-12-31')\n",
    "\n",
    "# Reset index to make Date a column\n",
    "spy_data.reset_index(inplace=True)\n",
    "\n",
    "# Select relevant features (e.g., Open, High, Low, Close, Volume)\n",
    "features = ['Open', 'High', 'Low', 'Close', 'Volume']\n",
    "spy_data = spy_data[features]\n",
    "spy_data['Daily_Return'] = spy_data['Close'].pct_change()\n",
    "spy_data.dropna(inplace=True)\n",
    "\n",
    "# Convert to NumPy array\n",
    "data = spy_data.values\n",
    "print(\"Dataset shape:\", data.shape)  # (num_days, num_features)\n",
    "print(data)"
   ]
  },
  {
   "cell_type": "code",
   "execution_count": 48,
   "metadata": {},
   "outputs": [
    {
     "name": "stdout",
     "output_type": "stream",
     "text": [
      "Shape of X: (3491, 30, 5)\n",
      "Shape of y: (3491,)\n"
     ]
    }
   ],
   "source": [
    "def create_sequences_with_target(data, time_steps, target_column):\n",
    "    \"\"\"\n",
    "    Create sequences and separate target class.\n",
    "\n",
    "    Args:\n",
    "    - data: NumPy array of shape (num_days, num_features).\n",
    "    - time_steps: Number of days per sequence.\n",
    "    - target_column: Column index for the target variable.\n",
    "\n",
    "    Returns:\n",
    "    - X: Input sequences of shape (num_samples, time_steps, num_features-1).\n",
    "    - y: Target values of shape (num_samples,).\n",
    "    \"\"\"\n",
    "    sequences = []\n",
    "    targets = []\n",
    "\n",
    "    for i in range(len(data) - time_steps):\n",
    "        # Extract a sequence of `time_steps` (excluding the target column)\n",
    "        sequence = np.delete(data[i:i + time_steps], target_column, axis=1)\n",
    "        sequences.append(sequence)\n",
    "\n",
    "        # Extract the target value at the end of the sequence\n",
    "        target = data[i + time_steps, target_column]\n",
    "        targets.append(target)\n",
    "\n",
    "    return np.array(sequences), np.array(targets)\n",
    "\n",
    "# Create sequences with 30 time steps and separate target (Daily_Return is the last column)\n",
    "time_steps = 30\n",
    "target_column = 5  # Assuming 'Daily_Return' is the 6th column (index 5)\n",
    "\n",
    "X, y = create_sequences_with_target(data, time_steps, target_column)\n",
    "\n",
    "print(\"Shape of X:\", X.shape)  # (num_samples, time_steps, num_features-1)\n",
    "print(\"Shape of y:\", y.shape)  # (num_samples,)\n",
    "\n"
   ]
  },
  {
   "cell_type": "code",
   "execution_count": 49,
   "metadata": {},
   "outputs": [
    {
     "name": "stdout",
     "output_type": "stream",
     "text": [
      "Shape of X_standardized: (3491, 30, 5)\n"
     ]
    }
   ],
   "source": [
    "from sklearn.preprocessing import StandardScaler\n",
    "\n",
    "# Flatten the data to 2D for normalization\n",
    "num_samples, time_steps, num_features = X.shape\n",
    "X_flat = X.reshape(-1, num_features)  # Shape: (samples * time_steps, num_features)\n",
    "\n",
    "# Initialize the scaler\n",
    "scaler = StandardScaler()\n",
    "\n",
    "# Fit the scaler and transform the data\n",
    "X_standardized_flat = scaler.fit_transform(X_flat)\n",
    "\n",
    "# Reshape back to the original 3D shape\n",
    "X_standardized = X_standardized_flat.reshape(num_samples, time_steps, num_features)\n",
    "\n",
    "print(\"Shape of X_standardized:\", X_standardized.shape)  # (num_samples, time_steps, num_features)\n",
    "\n",
    "X = X_standardized\n"
   ]
  },
  {
   "cell_type": "code",
   "execution_count": 50,
   "metadata": {},
   "outputs": [
    {
     "name": "stdout",
     "output_type": "stream",
     "text": [
      "Shape of X_train: (2792, 30, 5)\n",
      "Shape of X_val: (699, 30, 5)\n",
      "Shape of y_train: (2792,)\n",
      "Shape of y_val: (699,)\n"
     ]
    }
   ],
   "source": [
    "from sklearn.model_selection import train_test_split\n",
    "\n",
    "# Define the split ratio\n",
    "test_size = 0.2  # 20% for validation\n",
    "\n",
    "# Split the data (X and y)\n",
    "X_train, X_val, y_train, y_val = train_test_split(X, y, test_size=test_size, random_state=42, shuffle=False)\n",
    "\n",
    "print(\"Shape of X_train:\", X_train.shape)  # Training features\n",
    "print(\"Shape of X_val:\", X_val.shape)      # Validation features\n",
    "print(\"Shape of y_train:\", y_train.shape)  # Training targets\n",
    "print(\"Shape of y_val:\", y_val.shape)      # Validation targets\n"
   ]
  },
  {
   "cell_type": "code",
   "execution_count": 51,
   "metadata": {},
   "outputs": [],
   "source": [
    "from tensorflow.keras.models import Sequential\n",
    "from tensorflow.keras.layers import LSTM, Dense, Dropout, Bidirectional\n",
    "\n",
    "def create_bidirectional_lstm(input_shape=(30,5), units=64, dropout_rate=0.2):\n",
    "    \n",
    "    model = Sequential()\n",
    "\n",
    "    # Bidirectional LSTM Layer\n",
    "    model.add(Bidirectional(LSTM(units, return_sequences=False), input_shape=input_shape))\n",
    "\n",
    "    # Dropout for regularization\n",
    "    model.add(Dropout(dropout_rate))\n",
    "\n",
    "    # Dense output layer\n",
    "    model.add(Dense(1, activation='linear'))  # Linear activation for regression tasks\n",
    "\n",
    "    # Compile the model\n",
    "    model.compile(optimizer='adam', loss='mse', metrics=['mae'])\n",
    "\n",
    "    return model\n"
   ]
  },
  {
   "cell_type": "code",
   "execution_count": 52,
   "metadata": {},
   "outputs": [
    {
     "name": "stdout",
     "output_type": "stream",
     "text": [
      "Epoch 1/50\n"
     ]
    },
    {
     "name": "stderr",
     "output_type": "stream",
     "text": [
      "/opt/anaconda3/envs/sp500/lib/python3.11/site-packages/keras/src/layers/rnn/bidirectional.py:107: UserWarning: Do not pass an `input_shape`/`input_dim` argument to a layer. When using Sequential models, prefer using an `Input(shape)` object as the first layer in the model instead.\n",
      "  super().__init__(**kwargs)\n"
     ]
    },
    {
     "name": "stdout",
     "output_type": "stream",
     "text": [
      "\u001b[1m88/88\u001b[0m \u001b[32m━━━━━━━━━━━━━━━━━━━━\u001b[0m\u001b[37m\u001b[0m \u001b[1m1s\u001b[0m 7ms/step - loss: 0.0106 - mae: 0.0740 - val_loss: 0.0062 - val_mae: 0.0725\n",
      "Epoch 2/50\n",
      "\u001b[1m88/88\u001b[0m \u001b[32m━━━━━━━━━━━━━━━━━━━━\u001b[0m\u001b[37m\u001b[0m \u001b[1m1s\u001b[0m 7ms/step - loss: 0.0023 - mae: 0.0351 - val_loss: 0.0027 - val_mae: 0.0497\n",
      "Epoch 3/50\n",
      "\u001b[1m88/88\u001b[0m \u001b[32m━━━━━━━━━━━━━━━━━━━━\u001b[0m\u001b[37m\u001b[0m \u001b[1m1s\u001b[0m 8ms/step - loss: 0.0015 - mae: 0.0284 - val_loss: 0.0013 - val_mae: 0.0329\n",
      "Epoch 4/50\n",
      "\u001b[1m88/88\u001b[0m \u001b[32m━━━━━━━━━━━━━━━━━━━━\u001b[0m\u001b[37m\u001b[0m \u001b[1m1s\u001b[0m 8ms/step - loss: 7.0566e-04 - mae: 0.0198 - val_loss: 1.5777e-04 - val_mae: 0.0094\n",
      "Epoch 5/50\n",
      "\u001b[1m88/88\u001b[0m \u001b[32m━━━━━━━━━━━━━━━━━━━━\u001b[0m\u001b[37m\u001b[0m \u001b[1m1s\u001b[0m 8ms/step - loss: 5.4589e-04 - mae: 0.0169 - val_loss: 1.7793e-04 - val_mae: 0.0099\n",
      "Epoch 6/50\n",
      "\u001b[1m88/88\u001b[0m \u001b[32m━━━━━━━━━━━━━━━━━━━━\u001b[0m\u001b[37m\u001b[0m \u001b[1m1s\u001b[0m 9ms/step - loss: 3.8037e-04 - mae: 0.0140 - val_loss: 4.7286e-04 - val_mae: 0.0174\n",
      "Epoch 7/50\n",
      "\u001b[1m88/88\u001b[0m \u001b[32m━━━━━━━━━━━━━━━━━━━━\u001b[0m\u001b[37m\u001b[0m \u001b[1m1s\u001b[0m 8ms/step - loss: 3.2269e-04 - mae: 0.0127 - val_loss: 1.9516e-04 - val_mae: 0.0112\n",
      "Epoch 8/50\n",
      "\u001b[1m88/88\u001b[0m \u001b[32m━━━━━━━━━━━━━━━━━━━━\u001b[0m\u001b[37m\u001b[0m \u001b[1m1s\u001b[0m 8ms/step - loss: 2.9714e-04 - mae: 0.0125 - val_loss: 4.1524e-04 - val_mae: 0.0166\n",
      "Epoch 9/50\n",
      "\u001b[1m88/88\u001b[0m \u001b[32m━━━━━━━━━━━━━━━━━━━━\u001b[0m\u001b[37m\u001b[0m \u001b[1m1s\u001b[0m 7ms/step - loss: 2.5640e-04 - mae: 0.0113 - val_loss: 3.7862e-04 - val_mae: 0.0160\n",
      "Epoch 10/50\n",
      "\u001b[1m88/88\u001b[0m \u001b[32m━━━━━━━━━━━━━━━━━━━━\u001b[0m\u001b[37m\u001b[0m \u001b[1m1s\u001b[0m 7ms/step - loss: 2.3981e-04 - mae: 0.0109 - val_loss: 1.7660e-04 - val_mae: 0.0098\n",
      "Epoch 11/50\n",
      "\u001b[1m88/88\u001b[0m \u001b[32m━━━━━━━━━━━━━━━━━━━━\u001b[0m\u001b[37m\u001b[0m \u001b[1m1s\u001b[0m 8ms/step - loss: 1.8105e-04 - mae: 0.0097 - val_loss: 1.5178e-04 - val_mae: 0.0092\n",
      "Epoch 12/50\n",
      "\u001b[1m88/88\u001b[0m \u001b[32m━━━━━━━━━━━━━━━━━━━━\u001b[0m\u001b[37m\u001b[0m \u001b[1m1s\u001b[0m 8ms/step - loss: 2.1321e-04 - mae: 0.0104 - val_loss: 1.6959e-04 - val_mae: 0.0096\n",
      "Epoch 13/50\n",
      "\u001b[1m88/88\u001b[0m \u001b[32m━━━━━━━━━━━━━━━━━━━━\u001b[0m\u001b[37m\u001b[0m \u001b[1m1s\u001b[0m 7ms/step - loss: 1.8595e-04 - mae: 0.0097 - val_loss: 1.5417e-04 - val_mae: 0.0093\n",
      "Epoch 14/50\n",
      "\u001b[1m88/88\u001b[0m \u001b[32m━━━━━━━━━━━━━━━━━━━━\u001b[0m\u001b[37m\u001b[0m \u001b[1m1s\u001b[0m 7ms/step - loss: 1.8556e-04 - mae: 0.0095 - val_loss: 1.5293e-04 - val_mae: 0.0092\n",
      "Epoch 15/50\n",
      "\u001b[1m88/88\u001b[0m \u001b[32m━━━━━━━━━━━━━━━━━━━━\u001b[0m\u001b[37m\u001b[0m \u001b[1m1s\u001b[0m 8ms/step - loss: 1.8954e-04 - mae: 0.0095 - val_loss: 1.8201e-04 - val_mae: 0.0100\n",
      "Epoch 16/50\n",
      "\u001b[1m88/88\u001b[0m \u001b[32m━━━━━━━━━━━━━━━━━━━━\u001b[0m\u001b[37m\u001b[0m \u001b[1m1s\u001b[0m 7ms/step - loss: 1.7890e-04 - mae: 0.0093 - val_loss: 2.0554e-04 - val_mae: 0.0113\n",
      "Epoch 17/50\n",
      "\u001b[1m88/88\u001b[0m \u001b[32m━━━━━━━━━━━━━━━━━━━━\u001b[0m\u001b[37m\u001b[0m \u001b[1m1s\u001b[0m 7ms/step - loss: 1.6099e-04 - mae: 0.0088 - val_loss: 2.2782e-04 - val_mae: 0.0127\n",
      "Epoch 18/50\n",
      "\u001b[1m88/88\u001b[0m \u001b[32m━━━━━━━━━━━━━━━━━━━━\u001b[0m\u001b[37m\u001b[0m \u001b[1m1s\u001b[0m 8ms/step - loss: 1.7829e-04 - mae: 0.0093 - val_loss: 2.2796e-04 - val_mae: 0.0127\n",
      "Epoch 19/50\n",
      "\u001b[1m88/88\u001b[0m \u001b[32m━━━━━━━━━━━━━━━━━━━━\u001b[0m\u001b[37m\u001b[0m \u001b[1m1s\u001b[0m 7ms/step - loss: 1.5880e-04 - mae: 0.0088 - val_loss: 4.5604e-04 - val_mae: 0.0184\n",
      "Epoch 20/50\n",
      "\u001b[1m88/88\u001b[0m \u001b[32m━━━━━━━━━━━━━━━━━━━━\u001b[0m\u001b[37m\u001b[0m \u001b[1m1s\u001b[0m 7ms/step - loss: 1.5511e-04 - mae: 0.0084 - val_loss: 1.8802e-04 - val_mae: 0.0104\n",
      "Epoch 21/50\n",
      "\u001b[1m88/88\u001b[0m \u001b[32m━━━━━━━━━━━━━━━━━━━━\u001b[0m\u001b[37m\u001b[0m \u001b[1m1s\u001b[0m 8ms/step - loss: 1.6420e-04 - mae: 0.0091 - val_loss: 1.5430e-04 - val_mae: 0.0097\n",
      "\u001b[1m22/22\u001b[0m \u001b[32m━━━━━━━━━━━━━━━━━━━━\u001b[0m\u001b[37m\u001b[0m \u001b[1m0s\u001b[0m 2ms/step - loss: 1.3520e-04 - mae: 0.0086\n",
      "Validation Loss (MSE): 0.00015177552995737642\n",
      "Validation MAE: 0.009207590483129025\n"
     ]
    },
    {
     "data": {
      "image/png": "[encoded data removed]",
      "text/plain": [
       "<Figure size 640x480 with 1 Axes>"
      ]
     },
     "metadata": {},
     "output_type": "display_data"
    }
   ],
   "source": [
    "# Define input shape\n",
    "input_shape = (X_train.shape[1], X_train.shape[2])  # (time_steps, num_features)\n",
    "\n",
    "# Create the model\n",
    "model = create_bidirectional_lstm(input_shape=input_shape)\n",
    "\n",
    "# Early stopping callback to prevent overfitting\n",
    "early_stopping = EarlyStopping(monitor='val_loss', patience=10, restore_best_weights=True)\n",
    "\n",
    "# Train the model\n",
    "history = model.fit(\n",
    "    X_train, y_train,\n",
    "    validation_data=(X_val, y_val),\n",
    "    epochs=50,  # Adjust as needed\n",
    "    batch_size=32,  # Adjust as needed\n",
    "    verbose=1,  # 1 shows progress after each epoch\n",
    "    callbacks=[early_stopping]  # Include early stopping\n",
    ")\n",
    "\n",
    "# Evaluate the model\n",
    "val_loss, val_mae = model.evaluate(X_val, y_val, verbose=1)\n",
    "print(f\"Validation Loss (MSE): {val_loss}\")\n",
    "print(f\"Validation MAE: {val_mae}\")\n",
    "\n",
    "# Plot training and validation loss\n",
    "plt.plot(history.history['loss'], label='Train Loss')\n",
    "plt.plot(history.history['val_loss'], label='Validation Loss')\n",
    "plt.xlabel('Epochs')\n",
    "plt.ylabel('Loss (MSE)')\n",
    "plt.legend()\n",
    "plt.title('Training and Validation Loss')\n",
    "plt.show()"
   ]
  },
  {
   "cell_type": "code",
   "execution_count": 55,
   "metadata": {},
   "outputs": [
    {
     "name": "stdout",
     "output_type": "stream",
     "text": [
      "\u001b[1m1/1\u001b[0m \u001b[32m━━━━━━━━━━━━━━━━━━━━\u001b[0m\u001b[37m\u001b[0m \u001b[1m0s\u001b[0m 22ms/step\n",
      "Validation Input Sequence (30 days):\n",
      "[[ 1.74366538  1.74891756  1.74549498  1.71962973 -0.72343026]\n",
      " [ 1.72956675  1.70979766  1.72796837  1.70950646 -0.63786721]\n",
      " [ 1.7204828   1.7093273   1.71615703  1.72426549 -0.61207703]\n",
      " [ 1.76183271  1.77148666  1.78321529  1.79351961 -0.65145281]\n",
      " [ 1.8154837   1.80534045  1.83570007  1.82540292 -0.70865787]\n",
      " [ 1.80810317  1.81747116  1.82788922  1.83789142 -0.76687568]\n",
      " [ 1.85494134  1.84718725  1.87551597  1.87053176 -0.98577001]\n",
      " [ 1.87585279  1.86618314  1.90161563  1.88727752 -0.94873042]\n",
      " [ 1.88190847  1.8765271   1.90447312  1.89844135 -1.0676432 ]\n",
      " [ 1.89477726  1.88442656  1.90199644  1.8939947  -0.81532721]\n",
      " [ 1.90565877  1.89599307  1.91476066  1.9169847  -1.01140914]\n",
      " [ 1.93328862  1.92034891  1.94495586  1.92086372 -0.85517483]\n",
      " [ 1.92619194  1.90784197  1.92876265  1.90175274 -0.61978762]\n",
      " [ 1.91682414  1.9195026   1.94390822  1.94319168 -0.92188291]\n",
      " [ 1.92070369  1.93041106  1.94495586  1.95199028 -0.65252308]\n",
      " [ 1.96262131  1.94113155  1.97010293  1.9594645  -0.96510103]\n",
      " [ 1.96186446  1.95551937  1.98801035  1.9770617  -0.95827083]\n",
      " [ 1.97208354  1.98297835  1.99515436  2.00374161 -0.90646318]\n",
      " [ 2.01050019  2.00037546  2.03477986  2.02446108 -0.90161097]\n",
      " [ 2.04759227  2.03469933  2.05316401  2.03978775 -0.70678201]\n",
      " [ 2.05156653  2.03074989  2.06535645  2.04357207 -0.93673873]\n",
      " [ 2.04797084  2.02454333  2.04325756  2.02890773 -0.92603742]\n",
      " [ 2.01258189  2.00394896  2.00668025  1.99333452 -0.66306328]\n",
      " [ 2.00908091  1.98429502  2.02296852  1.99475361 -1.16052842]\n",
      " [ 2.00822934  2.00846261  2.0263975   2.02786688 -0.89269777]\n",
      " [ 2.04153659  2.01739634  2.04659149  2.02938066 -0.98600449]\n",
      " [ 2.02743767  2.03319468  2.05459275  2.04688345 -0.95900305]\n",
      " [ 2.04494285  2.02096984  2.05849818  2.03609814 -0.97337697]\n",
      " [ 2.0472137   2.02868104  2.04763914  2.05114099 -0.93356819]\n",
      " [ 2.05071468  2.03742651  2.06821393  2.04319384 -0.83732972]]\n",
      "True Target (Day 171's Daily_Return): -0.0028151747381706116\n",
      "Predicted Target: -0.004704433027654886\n"
     ]
    }
   ],
   "source": [
    "# Example: Predict for a specific validation sequence\n",
    "sequence_index = 170  # Index in the validation set\n",
    "\n",
    "# Extract the sequence and true target\n",
    "val_sequence = X_val[sequence_index]\n",
    "true_target = y_val[sequence_index]\n",
    "\n",
    "# Reshape for prediction\n",
    "val_sequence = val_sequence.reshape(1, val_sequence.shape[0], val_sequence.shape[1])  # Shape: (1, 30, num_features)\n",
    "\n",
    "# Predict\n",
    "predicted_target = model.predict(val_sequence)\n",
    "\n",
    "print(f\"Validation Input Sequence (30 days):\\n{X_val[sequence_index]}\")\n",
    "print(f\"True Target (Day {sequence_index + 1}'s Daily_Return): {true_target}\")\n",
    "print(f\"Predicted Target: {predicted_target[0][0]}\")\n"
   ]
  },
  {
   "cell_type": "code",
   "execution_count": 57,
   "metadata": {},
   "outputs": [
    {
     "name": "stdout",
     "output_type": "stream",
     "text": [
      "\u001b[1m22/22\u001b[0m \u001b[32m━━━━━━━━━━━━━━━━━━━━\u001b[0m\u001b[37m\u001b[0m \u001b[1m0s\u001b[0m 3ms/step \n",
      "Cumulative Return: 22.94%\n"
     ]
    }
   ],
   "source": [
    "import numpy as np\n",
    "import pandas as pd\n",
    "\n",
    "# Predict returns for the validation set\n",
    "y_pred = model.predict(X_val).flatten()  # Predicted returns (flattened to 1D)\n",
    "y_true = y_val  # True returns from validation set\n",
    "\n",
    "# Initialize variables\n",
    "position = 0  # Current position: 1 = in the market, 0 = out of the market\n",
    "cumulative_return = 1  # Starting with 1 (100% initial capital)\n",
    "strategy_returns = []  # To store daily returns from the strategy\n",
    "\n",
    "# Iterate over the predicted and true returns\n",
    "for pred_return, true_return in zip(y_pred, y_true):\n",
    "    if pred_return > 0 and position == 0:\n",
    "        # Buy if predicted return is positive and currently out of the market\n",
    "        position = 1\n",
    "    elif pred_return < 0 and position == 1:\n",
    "        # Sell if predicted return is negative and currently in the market\n",
    "        position = 0\n",
    "    \n",
    "    # Calculate daily return based on true return if in the market\n",
    "    daily_return = true_return if position == 1 else 0\n",
    "    strategy_returns.append(daily_return)\n",
    "\n",
    "    # Update cumulative return\n",
    "    cumulative_return *= (1 + daily_return)\n",
    "\n",
    "# Convert strategy returns to a DataFrame for analysis\n",
    "strategy_df = pd.DataFrame({\n",
    "    \"True Return\": y_true,\n",
    "    \"Predicted Return\": y_pred,\n",
    "    \"Strategy Return\": strategy_returns\n",
    "})\n",
    "\n",
    "# Print cumulative return\n",
    "print(f\"Cumulative Return: {cumulative_return - 1:.2%}\")  # As a percentage\n"
   ]
  }
 ],
 "metadata": {
  "kernelspec": {
   "display_name": "sp500",
   "language": "python",
   "name": "python3"
  },
  "language_info": {
   "codemirror_mode": {
    "name": "ipython",
    "version": 3
   },
   "file_extension": ".py",
   "mimetype": "text/x-python",
   "name": "python",
   "nbconvert_exporter": "python",
   "pygments_lexer": "ipython3",
   "version": "3.11.8"
  }
 },
 "nbformat": 4,
 "nbformat_minor": 2
}
